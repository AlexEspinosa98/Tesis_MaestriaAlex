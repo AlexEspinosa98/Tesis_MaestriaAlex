{
 "cells": [
  {
   "attachments": {},
   "cell_type": "markdown",
   "metadata": {},
   "source": [
    "# Limpieza de datos etiquetados por roboflow\n",
    "\n",
    "Debido a que los nombres en los que etiqueda la plataforma roboflow es de la forma\n",
    "\n",
    "DJI_0030_JPG.rf.3f4f8a8c020936a61a4ab1f0879d885d.jpg\n",
    "DJI_0030_JPG.rf.3f4f8a8c020936a61a4ab1f0879d885d.txt\n",
    "\n",
    "Se realiza un algoritmo para obtener solo el nombre de la imagen transformando a :\n",
    "\n",
    "DJI_0030_.jpg"
   ]
  },
  {
   "cell_type": "code",
   "execution_count": 3,
   "metadata": {},
   "outputs": [],
   "source": [
    "#primero implementamos un algoritmos para las imágenes en Yolo\n",
    "\n",
    "import cv2\n",
    "import os\n",
    "import numpy as np\n"
   ]
  },
  {
   "cell_type": "code",
   "execution_count": 119,
   "metadata": {},
   "outputs": [],
   "source": [
    "def read_listfile(path):\n",
    "    archivos=os.listdir(path) #Lee todos los archivos pero no hace confimarción \n",
    "    #print(archivos)           \n",
    "    return archivos\n",
    "\n",
    "\n",
    "#función limpia los demas archivos y solod eja los .tif y los jpg de la lista, esto para no involucrar\n",
    "# a los archivos de loc que carga el dron, en el caso de ser un algoritmo general. \n",
    "def limpieza_nombres(lista):\n",
    "    lis_jpg_tif=[]\n",
    "    lis_jpg=[]\n",
    "    for nombres in lista:\n",
    "            #hacemos filtro de la lista\n",
    "            #if not in funciona como: Si no esta en la lista\n",
    "            #El split(\".\") divide la palabra en el punto y toma desde la parte de atras\n",
    "            # por el -1\n",
    "            if nombres.split(\".\")[-1].upper() in [\"jpg\",\"JPG\",\"TIF\",\"tif\"]:\n",
    "                lis_jpg_tif.append(nombres)\n",
    "            if nombres.split(\".\")[-1].upper() in [\"jpg\",\"JPG\"]:\n",
    "                lis_jpg.append(nombres)\n",
    "    return lis_jpg_tif,lis_jpg #Lista con los nombrs de todos los archivos jpg y tif\n",
    "\n",
    "def extraer_nombre(nom):\n",
    "    name=nom.split(\"JPG\")[0]\n",
    "    formato=nom.split(\".\")[-1]\n",
    "    return name[:-1],formato"
   ]
  },
  {
   "cell_type": "code",
   "execution_count": 159,
   "metadata": {},
   "outputs": [
    {
     "name": "stdout",
     "output_type": "stream",
     "text": [
      "['DJI_0090_JPG.rf.3fa3ed9e93897b8995b436983db89580.txt', 'DJI_0360_JPG.rf.71ae4934e13d8f335a26ed11ab80a5a9.txt', 'DJI_0620_JPG.rf.3f153e0b5578160b4fe3a847adccd6a7.txt', 'DJI_0700_JPG.rf.24336e2627277fc25c645884b194be06.txt', 'DJI_0740_JPG.rf.1beadff189ccc90710ab7b43bb6e6500.txt', 'DJI_0750_JPG.rf.9da7159e492befc3f923ba70c5fea8c7.txt', 'DJI_0770_JPG.rf.0e7dc656d465518772a823ae0079d519.txt', 'DJI_0820_JPG.rf.8bdc931e8d80b46f2a5822dabe69c53b.txt', 'DJI_0890_JPG.rf.bdd8c14173abcb4e34966d302511f4eb.txt', 'DJI_0920_JPG.rf.fe9899733ac9115a098a0b33da779522.txt']\n",
      "DJI_0090\n",
      "txt\n"
     ]
    }
   ],
   "source": [
    "if __name__==\"__main__\":\n",
    "\n",
    "    dir_img  = \"../data/pruebaetiquetas/YOLO_DATA0_DATA5/valid/images/\"\n",
    "    dir_label= \"../data/pruebaetiquetas/YOLO_DATA0_DATA5/valid/labels/\"\n",
    "\n",
    "\n",
    "    dir_img=dir_label\n",
    "    list_img=read_listfile(dir_img)\n",
    "    print(list_img)\n",
    "\n",
    "    nombre,formato=extraer_nombre(list_img[0])\n",
    "    print(nombre)\n",
    "    print(formato)"
   ]
  },
  {
   "cell_type": "code",
   "execution_count": 160,
   "metadata": {},
   "outputs": [
    {
     "name": "stdout",
     "output_type": "stream",
     "text": [
      "nombre DJI_0090 - formato txt\n",
      "DJI_0090_JPG.rf.3fa3ed9e93897b8995b436983db89580.txt\n",
      "nombre DJI_0360 - formato txt\n",
      "DJI_0360_JPG.rf.71ae4934e13d8f335a26ed11ab80a5a9.txt\n",
      "nombre DJI_0620 - formato txt\n",
      "DJI_0620_JPG.rf.3f153e0b5578160b4fe3a847adccd6a7.txt\n",
      "nombre DJI_0700 - formato txt\n",
      "DJI_0700_JPG.rf.24336e2627277fc25c645884b194be06.txt\n",
      "nombre DJI_0740 - formato txt\n",
      "DJI_0740_JPG.rf.1beadff189ccc90710ab7b43bb6e6500.txt\n",
      "nombre DJI_0750 - formato txt\n",
      "DJI_0750_JPG.rf.9da7159e492befc3f923ba70c5fea8c7.txt\n",
      "nombre DJI_0770 - formato txt\n",
      "DJI_0770_JPG.rf.0e7dc656d465518772a823ae0079d519.txt\n",
      "nombre DJI_0820 - formato txt\n",
      "DJI_0820_JPG.rf.8bdc931e8d80b46f2a5822dabe69c53b.txt\n",
      "nombre DJI_0890 - formato txt\n",
      "DJI_0890_JPG.rf.bdd8c14173abcb4e34966d302511f4eb.txt\n",
      "nombre DJI_0920 - formato txt\n",
      "DJI_0920_JPG.rf.fe9899733ac9115a098a0b33da779522.txt\n"
     ]
    }
   ],
   "source": [
    "for nombres in list_img:\n",
    "    nombre,formato=extraer_nombre(nombres)\n",
    "    print(f\"nombre {nombre} - formato {formato}\")\n",
    "    print(nombres)\n",
    "    os.rename(dir_img+nombres,dir_img+nombre+'.'+formato)\n",
    "    "
   ]
  },
  {
   "cell_type": "code",
   "execution_count": 100,
   "metadata": {},
   "outputs": [],
   "source": [
    "#os.rename(dir_img+list_img[0],dir_img+nombre+'.'+formato)"
   ]
  },
  {
   "cell_type": "code",
   "execution_count": 102,
   "metadata": {},
   "outputs": [
    {
     "data": {
      "text/plain": [
       "'DJI_0060_JPG.rf.b6de3fde2df063faca4e2e69976551ab.txt'"
      ]
     },
     "execution_count": 102,
     "metadata": {},
     "output_type": "execute_result"
    }
   ],
   "source": [
    "#list_img.pop(0)"
   ]
  },
  {
   "cell_type": "code",
   "execution_count": 103,
   "metadata": {},
   "outputs": [
    {
     "data": {
      "text/plain": [
       "['DJI_0220_JPG.rf.319cc54af4844b0a83e26c6458d214fa.txt',\n",
       " 'DJI_0260_JPG.rf.4edd1176d4679fe712c29709fa7be63e.txt',\n",
       " 'DJI_0370_JPG.rf.3d9840ecc1c34456f6f4059038e20b25.txt',\n",
       " 'DJI_0380_JPG.rf.1b93dadf463480f8eb3a663cc8984962.txt',\n",
       " 'DJI_0400_JPG.rf.6f2d8bff3e00fce1e9ef221a4a03c14c.txt',\n",
       " 'DJI_0440_JPG.rf.6e92e63a863a210b0414d439ec7a23ed.txt',\n",
       " 'DJI_0480_JPG.rf.db8cc89c837f8ae0765a8fd5fa5c77d7.txt',\n",
       " 'DJI_0700_JPG.rf.5188f5d8fad75792b77c32cc0f9e1aa0.txt',\n",
       " 'DJI_0710_JPG.rf.a4edf2eb9ec993f5ecce7588adb17aa3.txt',\n",
       " 'DJI_0860_JPG.rf.9cb147fc1f03f29211fde762c9425f5b.txt',\n",
       " 'DJI_0970_JPG.rf.a7158872068479d79b256423a01c7d5e.txt']"
      ]
     },
     "execution_count": 103,
     "metadata": {},
     "output_type": "execute_result"
    }
   ],
   "source": [
    "list_img\n"
   ]
  },
  {
   "cell_type": "code",
   "execution_count": 123,
   "metadata": {},
   "outputs": [
    {
     "name": "stdout",
     "output_type": "stream",
     "text": [
      "nombre DJI_0020 - formato txt\n",
      "DJI_0020_JPG.rf.fc9805fb58461aecb319e088e8dc71bd.txt\n",
      "nombre DJI_0030 - formato txt\n",
      "DJI_0030_JPG.rf.7301b68ea85c482ec83aeaf8e9e21190.txt\n",
      "nombre DJI_0040 - formato txt\n",
      "DJI_0040_JPG.rf.58d06e424c745c9d2d524e42e64149a9.txt\n",
      "nombre DJI_0050 - formato txt\n",
      "DJI_0050_JPG.rf.d31a386e13b71921bd6d502c4148c7ac.txt\n",
      "nombre DJI_0060 - formato txt\n",
      "DJI_0060_JPG.rf.0e711239b67854bb62a444b47cdbce8a.txt\n",
      "nombre DJI_0070 - formato txt\n",
      "DJI_0070_JPG.rf.ebfcd5c2f98a1d95fb4bf64fc1626f0c.txt\n",
      "nombre DJI_0080 - formato txt\n",
      "DJI_0080_JPG.rf.84194ef963ae86784e4f4c563bf09b3d.txt\n",
      "nombre DJI_0090 - formato txt\n",
      "DJI_0090_JPG.rf.0da281b8334c3b20b543da375ab20f40.txt\n",
      "nombre DJI_0100 - formato txt\n",
      "DJI_0100_JPG.rf.aa5dd3887f55e2384e876c7a6e439c35.txt\n",
      "nombre DJI_0110 - formato txt\n",
      "DJI_0110_JPG.rf.d3cc4da3a1adf30d63be02c68c08360c.txt\n",
      "nombre DJI_0120 - formato txt\n",
      "DJI_0120_JPG.rf.8088c22ea6ad84074a647912f805bd41.txt\n",
      "nombre DJI_0140 - formato txt\n",
      "DJI_0140_JPG.rf.3fcabe4077a3fb8260e64370e98fae3e.txt\n",
      "nombre DJI_0160 - formato txt\n",
      "DJI_0160_JPG.rf.eaa8d43fa8453598e0794335b61455bc.txt\n",
      "nombre DJI_0170 - formato txt\n",
      "DJI_0170_JPG.rf.251fba60f4e76f5d873cc8172a6a7a81.txt\n",
      "nombre DJI_0180 - formato txt\n",
      "DJI_0180_JPG.rf.e5f26636ccc26174d66ee895ad291de8.txt\n",
      "nombre DJI_0200 - formato txt\n",
      "DJI_0200_JPG.rf.edeb6d0b534c649e91c9b79c33ca592b.txt\n",
      "nombre DJI_0210 - formato txt\n",
      "DJI_0210_JPG.rf.881aa230a2122dc2760269a571cb0c41.txt\n",
      "nombre DJI_0320 - formato txt\n",
      "DJI_0320_JPG.rf.f8338c89953b1e079686a9b23f95b776.txt\n",
      "nombre DJI_0340 - formato txt\n",
      "DJI_0340_JPG.rf.cb469190755a87b99414810dc6faf465.txt\n",
      "nombre DJI_0350 - formato txt\n",
      "DJI_0350_JPG.rf.0123dae18eb2bdaa5730be269e6fc980.txt\n",
      "nombre DJI_0430 - formato txt\n",
      "DJI_0430_JPG.rf.3b4a43ffd29b1b794e66916f2e40e397.txt\n",
      "nombre DJI_0460 - formato txt\n",
      "DJI_0460_JPG.rf.e75b937e205fe25d577746cd7a999ee6.txt\n",
      "nombre DJI_0500 - formato txt\n",
      "DJI_0500_JPG.rf.525f444dffbcf8766d8e71e23c6727e1.txt\n",
      "nombre DJI_0510 - formato txt\n",
      "DJI_0510_JPG.rf.f92b860a8c2e7f5a6b54b4fea1711c3c.txt\n",
      "nombre DJI_0520 - formato txt\n",
      "DJI_0520_JPG.rf.2286d70068da53a140fea8eef835575c.txt\n",
      "nombre DJI_0540 - formato txt\n",
      "DJI_0540_JPG.rf.e9d19dcfe4486f4910eaf407ae59a4be.txt\n",
      "nombre DJI_0560 - formato txt\n",
      "DJI_0560_JPG.rf.3ff81e08f79bf142c9c64fdd58171cfd.txt\n",
      "nombre DJI_0600 - formato txt\n",
      "DJI_0600_JPG.rf.37b34aad217a235a21c1f1d8a84c4368.txt\n",
      "nombre DJI_0650 - formato txt\n",
      "DJI_0650_JPG.rf.84303b9084366273784abaf4b41a8610.txt\n",
      "nombre DJI_0660 - formato txt\n",
      "DJI_0660_JPG.rf.a28edab6927ab0f52568945215f5825b.txt\n",
      "nombre DJI_0670 - formato txt\n",
      "DJI_0670_JPG.rf.b6b024282ac4f652922ca876849fccac.txt\n",
      "nombre DJI_0680 - formato txt\n",
      "DJI_0680_JPG.rf.814e405a89b34c721e96da1705dafe77.txt\n",
      "nombre DJI_0690 - formato txt\n",
      "DJI_0690_JPG.rf.63b2faf843bb8318539caa0271eb2d26.txt\n",
      "nombre DJI_0700 - formato txt\n",
      "DJI_0700_JPG.rf.8666a0cf9a87dc8c873d58546c4aeccb.txt\n",
      "nombre DJI_0710 - formato txt\n",
      "DJI_0710_JPG.rf.b6f2218d867f68137c5b868160d7678d.txt\n",
      "nombre DJI_0720 - formato txt\n",
      "DJI_0720_JPG.rf.e1be46f8604344eb66f55a10c406da02.txt\n",
      "nombre DJI_0740 - formato txt\n",
      "DJI_0740_JPG.rf.1283d03ef6194ebacf309d2668dec0d5.txt\n",
      "nombre DJI_0750 - formato txt\n",
      "DJI_0750_JPG.rf.20d2c4523f11a6ee09e6fde182e952a7.txt\n",
      "nombre DJI_0760 - formato txt\n",
      "DJI_0760_JPG.rf.5ac88303c933de46d00378d47e5516a0.txt\n",
      "nombre DJI_0800 - formato txt\n",
      "DJI_0800_JPG.rf.7425271c9820d66bb771dff783bdd2da.txt\n",
      "nombre DJI_0810 - formato txt\n",
      "DJI_0810_JPG.rf.55f9a4b669c5da1961fc38666b9009b1.txt\n",
      "nombre DJI_0820 - formato txt\n",
      "DJI_0820_JPG.rf.dd191271014fe60337fc1c1be8f5a41b.txt\n",
      "nombre DJI_0830 - formato txt\n",
      "DJI_0830_JPG.rf.1d8be496ac9c6939e749df71188f94af.txt\n",
      "nombre DJI_0870 - formato txt\n",
      "DJI_0870_JPG.rf.c0be25134b7ee9c4910f94514940b844.txt\n",
      "nombre DJI_0880 - formato txt\n",
      "DJI_0880_JPG.rf.eef4225835c64ce141c93aec860f0c6b.txt\n",
      "nombre DJI_0890 - formato txt\n",
      "DJI_0890_JPG.rf.e9524e783edf0c0ceda1a64ce74c235c.txt\n",
      "nombre DJI_0900 - formato txt\n",
      "DJI_0900_JPG.rf.bf7bf38fef76bffb702f92a0efc636f4.txt\n"
     ]
    }
   ],
   "source": [
    "for nombres in list_img:\n",
    "    nombre,formato=extraer_nombre(nombres)\n",
    "    print(f\"nombre {nombre} - formato {formato}\")\n",
    "    print(nombres)\n",
    "    os.rename(dir_img+nombres,dir_img+nombre+'.'+formato)\n",
    "    "
   ]
  },
  {
   "cell_type": "code",
   "execution_count": null,
   "metadata": {},
   "outputs": [],
   "source": []
  }
 ],
 "metadata": {
  "kernelspec": {
   "display_name": "venv",
   "language": "python",
   "name": "python3"
  },
  "language_info": {
   "codemirror_mode": {
    "name": "ipython",
    "version": 3
   },
   "file_extension": ".py",
   "mimetype": "text/x-python",
   "name": "python",
   "nbconvert_exporter": "python",
   "pygments_lexer": "ipython3",
   "version": "3.10.8"
  },
  "orig_nbformat": 4
 },
 "nbformat": 4,
 "nbformat_minor": 2
}
