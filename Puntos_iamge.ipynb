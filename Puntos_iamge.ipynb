{
 "cells": [
  {
   "attachments": {},
   "cell_type": "markdown",
   "metadata": {},
   "source": [
    "#Scrip \n",
    "Realizado para ubicar los datos meustreados en las imágenes"
   ]
  },
  {
   "cell_type": "code",
   "execution_count": 19,
   "metadata": {},
   "outputs": [],
   "source": [
    "import pandas as pd\n",
    "import geopandas\n",
    "import matplotlib.pyplot as plt\n",
    "\n",
    "from PIL import Image\n",
    "from PIL.TiffTags import TAGS\n",
    "import re\n",
    "import rasterio\n",
    "import numpy as np\n",
    "import math\n",
    "import matplotlib.pyplot as plt\n"
   ]
  },
  {
   "cell_type": "code",
   "execution_count": 12,
   "metadata": {},
   "outputs": [
    {
     "data": {
      "text/html": [
       "<div>\n",
       "<style scoped>\n",
       "    .dataframe tbody tr th:only-of-type {\n",
       "        vertical-align: middle;\n",
       "    }\n",
       "\n",
       "    .dataframe tbody tr th {\n",
       "        vertical-align: top;\n",
       "    }\n",
       "\n",
       "    .dataframe thead th {\n",
       "        text-align: right;\n",
       "    }\n",
       "</style>\n",
       "<table border=\"1\" class=\"dataframe\">\n",
       "  <thead>\n",
       "    <tr style=\"text-align: right;\">\n",
       "      <th></th>\n",
       "      <th>Muestra</th>\n",
       "      <th>Tipo</th>\n",
       "      <th>Latitud</th>\n",
       "      <th>Longitud</th>\n",
       "      <th>Presición GPS</th>\n",
       "      <th>Altitud GPS</th>\n",
       "    </tr>\n",
       "  </thead>\n",
       "  <tbody>\n",
       "    <tr>\n",
       "      <th>0</th>\n",
       "      <td>3</td>\n",
       "      <td>4</td>\n",
       "      <td>10.799640</td>\n",
       "      <td>-74.203636</td>\n",
       "      <td>74.0</td>\n",
       "      <td>19.92</td>\n",
       "    </tr>\n",
       "    <tr>\n",
       "      <th>1</th>\n",
       "      <td>4</td>\n",
       "      <td>2</td>\n",
       "      <td>10.799836</td>\n",
       "      <td>-74.203743</td>\n",
       "      <td>74.0</td>\n",
       "      <td>15.90</td>\n",
       "    </tr>\n",
       "    <tr>\n",
       "      <th>2</th>\n",
       "      <td>5</td>\n",
       "      <td>4</td>\n",
       "      <td>10.799969</td>\n",
       "      <td>-74.203827</td>\n",
       "      <td>75.0</td>\n",
       "      <td>14.12</td>\n",
       "    </tr>\n",
       "    <tr>\n",
       "      <th>3</th>\n",
       "      <td>6</td>\n",
       "      <td>6</td>\n",
       "      <td>10.800044</td>\n",
       "      <td>-74.203857</td>\n",
       "      <td>75.0</td>\n",
       "      <td>13.64</td>\n",
       "    </tr>\n",
       "    <tr>\n",
       "      <th>4</th>\n",
       "      <td>7</td>\n",
       "      <td>4</td>\n",
       "      <td>10.800036</td>\n",
       "      <td>-74.203859</td>\n",
       "      <td>75.0</td>\n",
       "      <td>15.04</td>\n",
       "    </tr>\n",
       "  </tbody>\n",
       "</table>\n",
       "</div>"
      ],
      "text/plain": [
       "   Muestra  Tipo    Latitud   Longitud  Presición GPS  Altitud GPS\n",
       "0        3     4  10.799640 -74.203636           74.0        19.92\n",
       "1        4     2  10.799836 -74.203743           74.0        15.90\n",
       "2        5     4  10.799969 -74.203827           75.0        14.12\n",
       "3        6     6  10.800044 -74.203857           75.0        13.64\n",
       "4        7     4  10.800036 -74.203859           75.0        15.04"
      ]
     },
     "execution_count": 12,
     "metadata": {},
     "output_type": "execute_result"
    }
   ],
   "source": [
    "Sig=pd.read_excel('data/Salida_13_03_23/dataGPS_media.xlsx')\n",
    "Sig.head()"
   ]
  },
  {
   "cell_type": "code",
   "execution_count": 8,
   "metadata": {},
   "outputs": [
    {
     "name": "stdout",
     "output_type": "stream",
     "text": [
      "<class 'pandas.core.frame.DataFrame'>\n",
      "RangeIndex: 83 entries, 0 to 82\n",
      "Data columns (total 6 columns):\n",
      " #   Column         Non-Null Count  Dtype  \n",
      "---  ------         --------------  -----  \n",
      " 0   Muestra        83 non-null     int64  \n",
      " 1   Tipo           83 non-null     int64  \n",
      " 2   Latitud        83 non-null     float64\n",
      " 3   Longitud       83 non-null     float64\n",
      " 4   Presición GPS  83 non-null     float64\n",
      " 5   Altitud GPS    83 non-null     float64\n",
      "dtypes: float64(4), int64(2)\n",
      "memory usage: 4.0 KB\n"
     ]
    }
   ],
   "source": [
    "Sig.info()"
   ]
  },
  {
   "cell_type": "code",
   "execution_count": 10,
   "metadata": {},
   "outputs": [],
   "source": [
    "df = pd.DataFrame(\n",
    "    {\n",
    "        \"n_muestra\":Sig[\"Muestra\"],\n",
    "        \"Tipo\": Sig[\"Tipo\"],\n",
    "        \"latitud\": Sig[\"Latitud\"],\n",
    "        \"longitud\": Sig[\"Longitud\"],\n",
    "    }\n",
    ")\n"
   ]
  },
  {
   "attachments": {},
   "cell_type": "markdown",
   "metadata": {},
   "source": [
    "# colocando una imagen pra verificar los puntos"
   ]
  },
  {
   "cell_type": "code",
   "execution_count": 23,
   "metadata": {},
   "outputs": [
    {
     "name": "stdout",
     "output_type": "stream",
     "text": [
      "AbsoluteAltitude\n",
      "+30.62\n",
      "{'xmpmeta xmlns:x': 'adobe:ns:meta/', 'RDF xmlns:rdf': 'http://www.w3.org/1999/02/22-rdf-syntax-ns#', 'Description rdf:about': 'DJI Meta Data', 'tiff': 'http://ns.adobe.com/tiff/1.0/', 'exif': 'http://ns.adobe.com/exif/1.0/', 'xmp': 'http://ns.adobe.com/xap/1.0/', 'xmpMM': 'http://ns.adobe.com/xap/1.0/mm/', 'dc': 'http://purl.org/dc/elements/1.1/', 'crs': 'http://ns.adobe.com/camera-raw-settings/1.0/', 'drone-dji': 'http://www.dji.com/drone-dji/1.0/', 'Camera': 'http://pix4d.com/camera/1.0', 'ModifyDate': '2023-03-12', 'CreateDate': '2023-03-12', 'Make': 'DJI', 'Model': 'FC6360', 'format': 'image/TIF', 'AbsoluteAltitude': '+30.62', 'RelativeAltitude': '+24.91', 'GpsLatitude': '10.80031965', 'GpsLongitude': '-74.20439982', 'GimbalRollDegree': '+0.00', 'GimbalYawDegree': '-29.00', 'GimbalPitchDegree': '-89.90', 'FlightRollDegree': '-4.00', 'FlightYawDegree': '-29.10', 'FlightPitchDegree': '+1.90', 'FlightXSpeed': '+0.00', 'FlightYSpeed': '+0.20', 'FlightZSpeed': '+0.00', 'CamReverse': '0', 'GimbalReverse': '0', 'SelfData': 'Undefined', 'CalibratedFocalLength': '1913.333374', 'CalibratedOpticalCenterX': '800.000000', 'CalibratedOpticalCenterY': '650.000000', 'RtkFlag': '50', 'RtkSrcType': '2', 'RtkStdLon': '0.01187', 'RtkStdLat': '0.01039', 'RtkStdHgt': '0.02516', 'RelativeOpticalCenterX': '-9.81250', 'RelativeOpticalCenterY': '-0.87500', 'DewarpFlag': '0', 'DewarpData': '2019-02-04;1946.6899414,1938.1800537,8.2410278,0.6400146,-0.4091410,0.3551550,0.0014017,0.0014017,-0.3881310', 'DewarpHMatrix': '1.0080700,-0.0037179,6.8375001,0.0051800,0.9988350,-13.7370996,0.0000153,-0.0000099,1.0000000', 'VignettingFlag': '0', 'VignettingData': '0.000218235, 1.20722e-6, -2.8676e-9, 5.1742e-12, -4.16853e-15, 1.36962e-18', 'LS_type': '1', 'Package_idx': '248', 'Cfg_cnt': '1', 'RawData': '4452.000 6346.000 5525.000 5801.000 7000.000 5024.000 5003.000 5925.000 6436.000 6426.000 2660.000 778.000 1320.000 2437.000 4183.000 3311.000 4910.000 4244.000 ', 'BandName': 'Blue', 'BandFreq': '450(+/-16)nm', 'Irradiance': '6201.827', 'SensorGain': '1.562', 'ExposureTime': '3051', 'SensorGainAdjustment': '2.176354', 'SensorIndex': '1', 'CaptureUUID': '8e2bb8f81a4511ed84edce3ccab36997', 'DroneID': 'ce3ccab369970d2995b38aac35c75ff8', 'Version': '7.0', 'HasSettings': 'False', 'HasCrop': 'False', 'AlreadyApplied': 'False'}\n",
      "-74.20449355807085 -74.20430608192916 10.800243487817443 10.800395812182558\n"
     ]
    }
   ],
   "source": [
    "imagen='data/Salida_13_03_23/Dron/101FPLAN/DJI_0021.TIF'\n",
    "\n",
    "img = Image.open(imagen)\n",
    "# obtenemos los Tags de la metadata y se almacenan en un diccionario\n",
    "meta_dict = {TAGS[key]: img.tag[key] for key in img.tag_v2}\n",
    "\n",
    "# Extraemos el indicador xmp\n",
    "p = meta_dict.get(\"XMP\")\n",
    "s = p.decode(\"UTF-8\")\n",
    "# dividimos por el salto de linea y obtenemos una lista\n",
    "div = s.split(\"\\n\")\n",
    "\n",
    "for ind,recorrido in enumerate(div):\n",
    "    div[ind]=recorrido.strip() \n",
    "\n",
    "usar = div[17]\n",
    "\n",
    "result = re.search(\":(.*)=\", div[17])\n",
    "result.group(1)\n",
    "\n",
    "result2 = re.search(\"\\\"(.*)\\\"\", div[17])\n",
    "result2.group(1)\n",
    "\n",
    "print(result.group(1))\n",
    "print(result2.group(1))\n",
    "metadiccionario = {}\n",
    "for ind,recorrido in enumerate(div):\n",
    "    try:\n",
    "        metadiccionario[re.search(\":(.*)=\", div[ind]).group(1)] = re.search(\"\\\"(.*)\\\"\", div[ind]).group(1)\n",
    "    except:\n",
    "        pass\n",
    "\n",
    "print(metadiccionario)\n",
    "\n",
    "centro_x = float(metadiccionario[\"CalibratedOpticalCenterX\"])\n",
    "centro_y = float(metadiccionario[\"CalibratedOpticalCenterY\"])\n",
    "altura_vuelo = float(metadiccionario[\"RelativeAltitude\"])\n",
    "distancia_focal = float(metadiccionario[\"CalibratedFocalLength\"])\n",
    "angulo_giro = float(metadiccionario[\"GimbalYawDegree\"])\n",
    "latitud = float(metadiccionario[\"GpsLatitude\"])\n",
    "longitud = float(metadiccionario[\"GpsLongitude\"])\n",
    "\n",
    "resolucion = altura_vuelo/distancia_focal\n",
    "resolucion\n",
    "\n",
    "\n",
    "# Calcular las coordenadas de los extremos en metros\n",
    "min_lon = float(metadiccionario[\"GpsLongitude\"]) - (\n",
    "    float(metadiccionario[\"CalibratedOpticalCenterX\"]) * resolucion) / 111111\n",
    "max_lon = float(metadiccionario[\"GpsLongitude\"]) + (\n",
    "    float(metadiccionario[\"CalibratedOpticalCenterX\"]) * resolucion) / 111111\n",
    "min_lat = float(metadiccionario[\"GpsLatitude\"]) - (\n",
    "    float(metadiccionario[\"CalibratedOpticalCenterY\"]) * resolucion) / 111111\n",
    "max_lat = float(metadiccionario[\"GpsLatitude\"]) + (\n",
    "    float(metadiccionario[\"CalibratedOpticalCenterY\"]) * resolucion) / 111111\n",
    "print(min_lon, max_lon, min_lat, max_lat)\n"
   ]
  },
  {
   "cell_type": "code",
   "execution_count": null,
   "metadata": {},
   "outputs": [],
   "source": []
  }
 ],
 "metadata": {
  "kernelspec": {
   "display_name": "venv",
   "language": "python",
   "name": "python3"
  },
  "language_info": {
   "codemirror_mode": {
    "name": "ipython",
    "version": 3
   },
   "file_extension": ".py",
   "mimetype": "text/x-python",
   "name": "python",
   "nbconvert_exporter": "python",
   "pygments_lexer": "ipython3",
   "version": "3.10.8"
  },
  "orig_nbformat": 4
 },
 "nbformat": 4,
 "nbformat_minor": 2
}
