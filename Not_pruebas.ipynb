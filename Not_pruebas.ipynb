{
 "cells": [
  {
   "attachments": {},
   "cell_type": "markdown",
   "metadata": {},
   "source": [
    "# Notebook \n",
    "### para realizar pruebas de código y funciones antes de implementarlos en una clase"
   ]
  },
  {
   "cell_type": "code",
   "execution_count": 4,
   "metadata": {},
   "outputs": [],
   "source": [
    "#Sección de librerias \n",
    "import cv2\n",
    "#import pandas as pd Tal vez no se usa la libreria\n",
    "import numpy as np\n",
    "import os\n",
    "import math"
   ]
  },
  {
   "cell_type": "code",
   "execution_count": 9,
   "metadata": {},
   "outputs": [],
   "source": [
    "def read_carpet():\n",
    "    carpetas=os.listdir(\"./data\")\n",
    "    return carpetas\n",
    "\n",
    "list_c=read_carpet()"
   ]
  },
  {
   "cell_type": "code",
   "execution_count": 11,
   "metadata": {},
   "outputs": [
    {
     "data": {
      "text/plain": [
       "False"
      ]
     },
     "execution_count": 11,
     "metadata": {},
     "output_type": "execute_result"
    }
   ],
   "source": [
    "os.path.isfile(list_c[0])\n"
   ]
  },
  {
   "attachments": {},
   "cell_type": "markdown",
   "metadata": {},
   "source": [
    "# Creación de algoritmo para la generación de imágenes para alimentar el nuevo Dataset"
   ]
  },
  {
   "cell_type": "code",
   "execution_count": 8,
   "metadata": {},
   "outputs": [],
   "source": [
    "import cv2\n",
    "import os\n",
    "import numpy as np\n",
    "\n",
    "dir_newData1=\"./data/fotos_muestras/grupo_1\"\n",
    "dir_newData2=\"./data/fotos_muestras/grupo_2\"\n",
    "\n"
   ]
  },
  {
   "cell_type": "code",
   "execution_count": 15,
   "metadata": {},
   "outputs": [],
   "source": [
    "def read_listfile(path):\n",
    "    archivos=os.listdir(path) #Lee todos los archivos pero no hace confimarción \n",
    "    #print(archivos)           \n",
    "    return archivos\n",
    "\n",
    "def limpieza_nombres(lista):\n",
    "    lis_jpg_tif=[]\n",
    "    lis_jpg=[]\n",
    "    for nombres in lista:\n",
    "            #hacemos filtro de la lista\n",
    "            #if not in funciona como: Si no esta en la lista\n",
    "            #El split(\".\") divide la palabra en el punto y toma desde la parte de atras\n",
    "            # por el -1\n",
    "            if nombres.split(\".\")[-1].upper() in [\"jpg\",\"JPG\",\"TIF\",\"tif\"]:\n",
    "                lis_jpg_tif.append(nombres)\n",
    "            if nombres.split(\".\")[-1].upper() in [\"jpg\",\"JPG\"]:\n",
    "                lis_jpg.append(nombres)\n",
    "    return lis_jpg_tif,lis_jpg #Lista con los nombrs de todos los archivos jpg y tif\n",
    "\n",
    "\n",
    "\n",
    "def split_image(dez_x,dez_y,imagen,name):\n",
    "    # Se obtiene las dimensiones de la imagen\n",
    "    tam_x,tam_y,tamz=imagen.shape\n",
    "    # División de total de pixeles/ número de divisiones\n",
    "    # Se obtiene el tamaño de cada sección\n",
    "    div_x=round(tam_x/dez_x)\n",
    "    div_y=round(tam_y/dez_y)\n",
    "    # Realizamos una copia de la imagen ya qué si se hace un cambio en el parametro\n",
    "    # El cambios e ve refljeado en la variable original. \n",
    "    copia=imagen.copy()\n",
    "    # Hacemos recorrido \n",
    "    #cv2.rectangle(copia,(100,100),(300,300),(255,0,0),2)\n",
    "    for j in range(dez_y):\n",
    "        for i in range (dez_x):\n",
    "            if (div_x*(i+1)<=tam_x):\n",
    "                cuadro=copia[div_x*i:div_x*(i+1),j*div_y:div_y*(j+1)]\n",
    "                \"\"\" print(f\"div_x*i {div_x*(i+1)} , div_y*j {div_y*(j+1)}\") \"\"\"\n",
    "                #cv2.rectangle(copia,(j*div_y,i*div_x),((1+j)*div_y,(i+1)*div_x),(255,0,0),2)\n",
    "                cv2.imwrite(\"./data/Fotos_muestras/result_g2/\"+name.split(\".\")[0]+\"_\"+str(i)+\"_\"+str(j)+\".jpg\",cuadro)\n",
    "# Inicio de codigo main con el if __name__==\"__main__\"\n",
    "\n"
   ]
  },
  {
   "cell_type": "code",
   "execution_count": 11,
   "metadata": {},
   "outputs": [
    {
     "name": "stdout",
     "output_type": "stream",
     "text": [
      " Lista de la carpeta 1 \n",
      " ['DJI_0010.JPG', 'DJI_0030.JPG', 'DJI_0060.JPG', 'DJI_0080.JPG', 'DJI_0100.JPG', 'DJI_0120.JPG', 'DJI_0150.JPG', 'DJI_0170.JPG', 'DJI_0180.JPG', 'DJI_0200.JPG', 'DJI_0220.JPG', 'DJI_0240.JPG', 'DJI_0250.JPG', 'DJI_0260.JPG', 'DJI_0280.JPG', 'DJI_0300.JPG', 'DJI_0310.JPG', 'DJI_0320.JPG', 'DJI_0340.JPG', 'DJI_0350.JPG', 'DJI_0370.JPG', 'DJI_0380.JPG', 'DJI_0400.JPG', 'DJI_0410.JPG', 'DJI_0430.JPG', 'DJI_0450.JPG', 'DJI_0460.JPG', 'DJI_0480.JPG', 'DJI_0490.JPG', 'DJI_0510.JPG', 'DJI_0530.JPG', 'DJI_0560.JPG', 'DJI_0580.JPG', 'DJI_0590.JPG', 'DJI_0610.JPG', 'DJI_0620.JPG', 'DJI_0630.JPG', 'DJI_0650.JPG', 'DJI_0660.JPG', 'DJI_0670.JPG', 'DJI_0680.JPG', 'DJI_0690.JPG', 'DJI_0700.JPG', 'DJI_0710.JPG', 'DJI_0720.JPG', 'DJI_0730.JPG', 'DJI_0740.JPG', 'DJI_0750.JPG', 'DJI_0760.JPG', 'DJI_0770.JPG', 'DJI_0780.JPG', 'DJI_0790.JPG', 'DJI_0800.JPG', 'DJI_0810.JPG', 'DJI_0820.JPG', 'DJI_0830.JPG', 'DJI_0840.JPG', 'DJI_0850.JPG', 'DJI_0870.JPG', 'DJI_0880.JPG', 'DJI_0890.JPG', 'DJI_0900.JPG', 'DJI_0910.JPG', 'DJI_0920.JPG', 'DJI_0930.JPG', 'DJI_0940.JPG', 'DJI_0950.JPG', 'DJI_0960.JPG', 'DJI_0970.JPG', 'DJI_0980.JPG'] \n",
      "\n",
      " Lista de la carpeta 1 \n",
      " ['DJI_0010.JPG', 'DJI_0030.JPG', 'DJI_0050.JPG', 'DJI_0060.JPG', 'DJI_0080.JPG', 'DJI_0090.JPG', 'DJI_0110.JPG', 'DJI_0120.JPG', 'DJI_0130.JPG', 'DJI_0150.JPG', 'DJI_0160.JPG', 'DJI_0170.JPG', 'DJI_0190.JPG', 'DJI_0200.JPG', 'DJI_0210.JPG', 'DJI_0220.JPG', 'DJI_0240.JPG', 'DJI_0250.JPG', 'DJI_0260.JPG', 'DJI_0280.JPG', 'DJI_0290.JPG', 'DJI_0320.JPG', 'DJI_0330.JPG', 'DJI_0350.JPG', 'DJI_0360.JPG', 'DJI_0370.JPG', 'DJI_0380.JPG', 'DJI_0400.JPG', 'DJI_0410.JPG', 'DJI_0420.JPG', 'DJI_0430.JPG', 'DJI_0450.JPG', 'DJI_0460.JPG', 'DJI_0470.JPG', 'DJI_0490.JPG', 'DJI_0500.JPG', 'DJI_0520.JPG', 'DJI_0540.JPG', 'DJI_0560.JPG', 'DJI_0570.JPG', 'DJI_0580.JPG', 'DJI_0600.JPG', 'DJI_0610.JPG', 'DJI_0620.JPG', 'DJI_0630.JPG', 'DJI_0640.JPG', 'DJI_0660.JPG', 'DJI_0670.JPG', 'DJI_0680.JPG', 'DJI_0700.JPG', 'DJI_0710.JPG', 'DJI_0730.JPG', 'DJI_0740.JPG', 'DJI_0750.JPG', 'DJI_0770.JPG', 'DJI_0790.JPG', 'DJI_0800.JPG', 'DJI_0810.JPG', 'DJI_0820.JPG', 'DJI_0840.JPG', 'DJI_0850.JPG', 'DJI_0860.JPG', 'DJI_0870.JPG', 'DJI_0900.JPG', 'DJI_0910.JPG', 'DJI_0920.JPG', 'DJI_0930.JPG', 'DJI_0950.JPG', 'DJI_0960.JPG', 'DJI_0970.JPG'] \n",
      "\n"
     ]
    }
   ],
   "source": [
    "#Leemos los elementos en cada carpeta\n",
    "carp1=read_listfile(dir_newData1)\n",
    "carp2=read_listfile(dir_newData2)\n",
    "\n",
    "__,jpg_carp1=limpieza_nombres(carp1)\n",
    "\n",
    "__,jpg_carp2=limpieza_nombres(carp2)\n",
    "\n",
    "\n",
    "print(f\" Lista de la carpeta 1 \\n {jpg_carp1} \\n\")\n",
    "print(f\" Lista de la carpeta 1 \\n {jpg_carp2} \\n\")"
   ]
  },
  {
   "cell_type": "code",
   "execution_count": 16,
   "metadata": {},
   "outputs": [
    {
     "name": "stdout",
     "output_type": "stream",
     "text": [
      "DJI_0010.JPG\n",
      "DJI_0030.JPG\n",
      "DJI_0050.JPG\n",
      "DJI_0060.JPG\n",
      "DJI_0080.JPG\n",
      "DJI_0090.JPG\n",
      "DJI_0110.JPG\n",
      "DJI_0120.JPG\n",
      "DJI_0130.JPG\n",
      "DJI_0150.JPG\n",
      "DJI_0160.JPG\n",
      "DJI_0170.JPG\n",
      "DJI_0190.JPG\n",
      "DJI_0200.JPG\n",
      "DJI_0210.JPG\n",
      "DJI_0220.JPG\n",
      "DJI_0240.JPG\n",
      "DJI_0250.JPG\n",
      "DJI_0260.JPG\n",
      "DJI_0280.JPG\n",
      "DJI_0290.JPG\n",
      "DJI_0320.JPG\n",
      "DJI_0330.JPG\n",
      "DJI_0350.JPG\n",
      "DJI_0360.JPG\n",
      "DJI_0370.JPG\n",
      "DJI_0380.JPG\n",
      "DJI_0400.JPG\n",
      "DJI_0410.JPG\n",
      "DJI_0420.JPG\n",
      "DJI_0430.JPG\n",
      "DJI_0450.JPG\n",
      "DJI_0460.JPG\n",
      "DJI_0470.JPG\n",
      "DJI_0490.JPG\n",
      "DJI_0500.JPG\n",
      "DJI_0520.JPG\n",
      "DJI_0540.JPG\n",
      "DJI_0560.JPG\n",
      "DJI_0570.JPG\n",
      "DJI_0580.JPG\n",
      "DJI_0600.JPG\n",
      "DJI_0610.JPG\n",
      "DJI_0620.JPG\n",
      "DJI_0630.JPG\n",
      "DJI_0640.JPG\n",
      "DJI_0660.JPG\n",
      "DJI_0670.JPG\n",
      "DJI_0680.JPG\n",
      "DJI_0700.JPG\n",
      "DJI_0710.JPG\n",
      "DJI_0730.JPG\n",
      "DJI_0740.JPG\n",
      "DJI_0750.JPG\n",
      "DJI_0770.JPG\n",
      "DJI_0790.JPG\n",
      "DJI_0800.JPG\n",
      "DJI_0810.JPG\n",
      "DJI_0820.JPG\n",
      "DJI_0840.JPG\n",
      "DJI_0850.JPG\n",
      "DJI_0860.JPG\n",
      "DJI_0870.JPG\n",
      "DJI_0900.JPG\n",
      "DJI_0910.JPG\n",
      "DJI_0920.JPG\n",
      "DJI_0930.JPG\n",
      "DJI_0950.JPG\n",
      "DJI_0960.JPG\n",
      "DJI_0970.JPG\n"
     ]
    }
   ],
   "source": [
    "if __name__==\"__main__\":\n",
    "    #un comentario\n",
    "    \"\"\" dir=\"D:\\Alexander_Espinosa/trabajo/Trabajo_octubre_22/S_inteligentes_oct2022/MEDIA102_RGB\"\n",
    "    lista=read_listfile(dir)\n",
    "\n",
    "    dir D:\\Alexander_Espinosa\\Tesis_Maestria\\data\\Fotos_muestras\\grupo_1\n",
    " \"\"\"\n",
    "    dir=\"./data/Fotos_muestras/grupo_2\"\n",
    "    lista=jpg_carp2\n",
    "    # Recorremos la lista de las imagenes de la lista\n",
    "    for nombres in lista:\n",
    "        #hacemos filtro de la lista\n",
    "        #if not in funciona como: Si no esta en la lista\n",
    "        #El split(\".\") divide la palabra en el punto y toma desde la parte de atras\n",
    "        # por el -1\n",
    "        if nombres.split(\".\")[-1] not in [\"jpg\",\"JPG\"]:\n",
    "            continue\n",
    "        dir_act=dir+\"/\"+nombres\n",
    "        leer_img=cv2.imread(dir_act)\n",
    "        print(nombres)\n",
    "        # Dentro del for se toman todas las imagenes de manera independiente y \n",
    "        #sus direcciónes estan en dir_act\n",
    "        split_image(10,10,leer_img,nombres)\n",
    "        \"\"\" cv2.imshow(nombres,leer_img)\n",
    "        cv2.waitKey(0)   \"\"\""
   ]
  },
  {
   "cell_type": "code",
   "execution_count": null,
   "metadata": {},
   "outputs": [],
   "source": []
  }
 ],
 "metadata": {
  "kernelspec": {
   "display_name": "venv",
   "language": "python",
   "name": "python3"
  },
  "language_info": {
   "codemirror_mode": {
    "name": "ipython",
    "version": 3
   },
   "file_extension": ".py",
   "mimetype": "text/x-python",
   "name": "python",
   "nbconvert_exporter": "python",
   "pygments_lexer": "ipython3",
   "version": "3.10.8"
  },
  "orig_nbformat": 4,
  "vscode": {
   "interpreter": {
    "hash": "5f3c9922ab24611d2d3d2e05013306f172e6d85565badef8a556edd0e605cd97"
   }
  }
 },
 "nbformat": 4,
 "nbformat_minor": 2
}
